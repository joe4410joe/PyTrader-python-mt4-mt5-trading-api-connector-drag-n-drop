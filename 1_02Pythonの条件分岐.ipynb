{
  "nbformat": 4,
  "nbformat_minor": 0,
  "metadata": {
    "colab": {
      "provenance": [],
      "authorship_tag": "ABX9TyOYmlMUpuMv8zs4rsO18P59",
      "include_colab_link": true
    },
    "kernelspec": {
      "name": "python3",
      "display_name": "Python 3"
    },
    "language_info": {
      "name": "python"
    }
  },
  "cells": [
    {
      "cell_type": "markdown",
      "metadata": {
        "id": "view-in-github",
        "colab_type": "text"
      },
      "source": [
        "<a href=\"https://colab.research.google.com/github/joe4410joe/PyTrader-python-mt4-mt5-trading-api-connector-drag-n-drop/blob/master/1_02Python%E3%81%AE%E6%9D%A1%E4%BB%B6%E5%88%86%E5%B2%90.ipynb\" target=\"_parent\"><img src=\"https://colab.research.google.com/assets/colab-badge.svg\" alt=\"Open In Colab\"/></a>"
      ]
    },
    {
      "cell_type": "code",
      "source": [],
      "metadata": {
        "id": "8Zn5jaF_YhUn"
      },
      "execution_count": null,
      "outputs": []
    }
  ]
}
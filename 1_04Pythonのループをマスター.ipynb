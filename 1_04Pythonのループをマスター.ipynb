{
  "nbformat": 4,
  "nbformat_minor": 0,
  "metadata": {
    "colab": {
      "provenance": [],
      "authorship_tag": "ABX9TyP637eBBbskGDDiTux230TI",
      "include_colab_link": true
    },
    "kernelspec": {
      "name": "python3",
      "display_name": "Python 3"
    },
    "language_info": {
      "name": "python"
    }
  },
  "cells": [
    {
      "cell_type": "markdown",
      "metadata": {
        "id": "view-in-github",
        "colab_type": "text"
      },
      "source": [
        "<a href=\"https://colab.research.google.com/github/joe4410joe/PyTrader-python-mt4-mt5-trading-api-connector-drag-n-drop/blob/master/1_04Python%E3%81%AE%E3%83%AB%E3%83%BC%E3%83%97%E3%82%92%E3%83%9E%E3%82%B9%E3%82%BF%E3%83%BC.ipynb\" target=\"_parent\"><img src=\"https://colab.research.google.com/assets/colab-badge.svg\" alt=\"Open In Colab\"/></a>"
      ]
    },
    {
      "cell_type": "code",
      "execution_count": 4,
      "metadata": {
        "colab": {
          "base_uri": "https://localhost:8080/"
        },
        "id": "1LoOMGFI-V8A",
        "outputId": "d42a16bb-ca99-4502-d075-4c3fe853e13c"
      },
      "outputs": [
        {
          "output_type": "stream",
          "name": "stdout",
          "text": [
            "10の倍数\n",
            "10の倍数\n",
            "10の倍数\n",
            "30\n"
          ]
        }
      ],
      "source": [
        "for i in range(1, 31):\n",
        "  if i % 10 == 0:\n",
        "    print(\"10の倍数\")\n",
        "else:\n",
        "  print(i)\n"
      ]
    }
  ]
}
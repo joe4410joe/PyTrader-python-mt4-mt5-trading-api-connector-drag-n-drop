{
  "nbformat": 4,
  "nbformat_minor": 0,
  "metadata": {
    "colab": {
      "provenance": [],
      "authorship_tag": "ABX9TyOWyNejWlzU/+2g/nq8Fz48",
      "include_colab_link": true
    },
    "kernelspec": {
      "name": "python3",
      "display_name": "Python 3"
    },
    "language_info": {
      "name": "python"
    }
  },
  "cells": [
    {
      "cell_type": "markdown",
      "metadata": {
        "id": "view-in-github",
        "colab_type": "text"
      },
      "source": [
        "<a href=\"https://colab.research.google.com/github/joe4410joe/PyTrader-python-mt4-mt5-trading-api-connector-drag-n-drop/blob/master/1_02Python_if_%E6%A7%8B%E6%96%87_%E6%9D%A1%E4%BB%B6%E5%88%86%E5%B2%90.ipynb\" target=\"_parent\"><img src=\"https://colab.research.google.com/assets/colab-badge.svg\" alt=\"Open In Colab\"/></a>"
      ]
    },
    {
      "cell_type": "code",
      "source": [
        "num = 7\n",
        "if num % 2 == 0:\n",
        "  print(\"偶数です\")\n",
        "else:\n",
        "  print(\"奇数です\")\n",
        "\n"
      ],
      "metadata": {
        "colab": {
          "base_uri": "https://localhost:8080/"
        },
        "id": "mRw9Rf7hmGPE",
        "outputId": "edf186e1-d5ee-4616-c561-9ee44ea775a6"
      },
      "execution_count": 22,
      "outputs": [
        {
          "output_type": "stream",
          "name": "stdout",
          "text": [
            "奇数です\n"
          ]
        }
      ]
    },
    {
      "cell_type": "code",
      "source": [
        "num = int(input(\"整数を入力してください:\"))\n",
        "if num > 0:\n",
        "  print(\"正の数です\")\n",
        "elif num < 0:\n",
        "  print(\"負の数です\")\n",
        "else:\n",
        "  print(\"ゼロです\")"
      ],
      "metadata": {
        "id": "qlMfG9-TqXxa"
      },
      "execution_count": null,
      "outputs": []
    },
    {
      "cell_type": "code",
      "source": [
        "num = int(input(\"整数を入力してください:\"))\n",
        "if num > 0:\n",
        "  print(\"正の数です\")\n",
        "elif num < 0:\n",
        "  print(\"負の数です\")\n",
        "else:\n",
        "  print(\"ゼロです\")\n",
        ""
      ],
      "metadata": {
        "id": "nRUiSw-VxClF"
      },
      "execution_count": null,
      "outputs": []
    }
  ]
}
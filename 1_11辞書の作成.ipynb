{
  "nbformat": 4,
  "nbformat_minor": 0,
  "metadata": {
    "colab": {
      "provenance": [],
      "authorship_tag": "ABX9TyPWzTcdAKsiLfwUnTROGZlK",
      "include_colab_link": true
    },
    "kernelspec": {
      "name": "python3",
      "display_name": "Python 3"
    },
    "language_info": {
      "name": "python"
    }
  },
  "cells": [
    {
      "cell_type": "markdown",
      "metadata": {
        "id": "view-in-github",
        "colab_type": "text"
      },
      "source": [
        "<a href=\"https://colab.research.google.com/github/joe4410joe/PyTrader-python-mt4-mt5-trading-api-connector-drag-n-drop/blob/master/1_11%E8%BE%9E%E6%9B%B8%E3%81%AE%E4%BD%9C%E6%88%90.ipynb\" target=\"_parent\"><img src=\"https://colab.research.google.com/assets/colab-badge.svg\" alt=\"Open In Colab\"/></a>"
      ]
    },
    {
      "cell_type": "code",
      "execution_count": 5,
      "metadata": {
        "colab": {
          "base_uri": "https://localhost:8080/"
        },
        "id": "3g25E7-Ztd6J",
        "outputId": "a410b22c-1770-4552-8828-509af8ea69a2"
      },
      "outputs": [
        {
          "output_type": "stream",
          "name": "stdout",
          "text": [
            "value1\n"
          ]
        }
      ],
      "source": [
        "my_dict = {\"key1\": \"value1\", \"key2\": \"value2\"}\n",
        "print(my_dict[\"key1\"])"
      ]
    },
    {
      "cell_type": "code",
      "source": [
        "my_dict = {'name':'Alice','age':30,'city': 'New York'}\n",
        "print(my_dict['age'])"
      ],
      "metadata": {
        "colab": {
          "base_uri": "https://localhost:8080/"
        },
        "id": "Hfi3JcCFu2Bh",
        "outputId": "25e3f16f-ce73-4cea-9e1c-5a9f8fe97681"
      },
      "execution_count": 6,
      "outputs": [
        {
          "output_type": "stream",
          "name": "stdout",
          "text": [
            "30\n"
          ]
        }
      ]
    }
  ]
}
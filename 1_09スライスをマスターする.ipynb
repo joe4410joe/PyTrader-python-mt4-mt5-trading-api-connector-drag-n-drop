{
  "nbformat": 4,
  "nbformat_minor": 0,
  "metadata": {
    "colab": {
      "provenance": [],
      "authorship_tag": "ABX9TyNsM2BvKxvJD7GFoPeM1yeT",
      "include_colab_link": true
    },
    "kernelspec": {
      "name": "python3",
      "display_name": "Python 3"
    },
    "language_info": {
      "name": "python"
    }
  },
  "cells": [
    {
      "cell_type": "markdown",
      "metadata": {
        "id": "view-in-github",
        "colab_type": "text"
      },
      "source": [
        "<a href=\"https://colab.research.google.com/github/joe4410joe/PyTrader-python-mt4-mt5-trading-api-connector-drag-n-drop/blob/master/1_09%E3%82%B9%E3%83%A9%E3%82%A4%E3%82%B9%E3%82%92%E3%83%9E%E3%82%B9%E3%82%BF%E3%83%BC%E3%81%99%E3%82%8B.ipynb\" target=\"_parent\"><img src=\"https://colab.research.google.com/assets/colab-badge.svg\" alt=\"Open In Colab\"/></a>"
      ]
    },
    {
      "cell_type": "code",
      "execution_count": 2,
      "metadata": {
        "colab": {
          "base_uri": "https://localhost:8080/"
        },
        "id": "Zg9iiFt8WIBk",
        "outputId": "3bac2715-6b65-4f7a-cd32-bf872651ba59"
      },
      "outputs": [
        {
          "output_type": "stream",
          "name": "stdout",
          "text": [
            "2番目の要素; 20\n"
          ]
        }
      ],
      "source": [
        "#　インデックス　プログラミングの世界では、インデックスは1ではなく0からはじまり、＊＊＊終了インデックスは抽出結果に含まれない＊＊＊\n",
        "my_list = [10,20,30,40,50]\n",
        "print(\"2番目の要素;\", my_list[1])\n"
      ]
    },
    {
      "cell_type": "code",
      "source": [
        "#　スライス 基本的な書き方はlist[start:end] ＊＊＊終了インデックスは抽出結果に含まれない＊＊＊　リストの先頭から3つの要素を取り出す\n",
        "my_list = [10,20,30,40,50]\n",
        "first_three = my_list[0:3]\n",
        "print(first_three)\n",
        "# インデックス  0 1　2  3  4\n",
        "#  my_list =  [10,20,30,40,50]\n",
        "                        ↑\n",
        "                  終了インデックス\n",
        "                   は抽出されない\n",
        "\n",
        "\n"
      ],
      "metadata": {
        "colab": {
          "base_uri": "https://localhost:8080/"
        },
        "id": "wuV5ndjaXQA-",
        "outputId": "d259b1a2-a1aa-46c0-9030-c92a7250f0bc"
      },
      "execution_count": 3,
      "outputs": [
        {
          "output_type": "stream",
          "name": "stdout",
          "text": [
            "[10, 20, 30]\n"
          ]
        }
      ]
    }
  ]
}
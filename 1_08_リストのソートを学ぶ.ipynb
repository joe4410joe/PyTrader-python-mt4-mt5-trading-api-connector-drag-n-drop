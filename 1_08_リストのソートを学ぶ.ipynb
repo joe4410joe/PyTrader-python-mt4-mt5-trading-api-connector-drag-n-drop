{
  "nbformat": 4,
  "nbformat_minor": 0,
  "metadata": {
    "colab": {
      "provenance": [],
      "authorship_tag": "ABX9TyOAuQEzyNLQnpxCWSXanLqm",
      "include_colab_link": true
    },
    "kernelspec": {
      "name": "python3",
      "display_name": "Python 3"
    },
    "language_info": {
      "name": "python"
    }
  },
  "cells": [
    {
      "cell_type": "markdown",
      "metadata": {
        "id": "view-in-github",
        "colab_type": "text"
      },
      "source": [
        "<a href=\"https://colab.research.google.com/github/joe4410joe/PyTrader-python-mt4-mt5-trading-api-connector-drag-n-drop/blob/master/1_08_%E3%83%AA%E3%82%B9%E3%83%88%E3%81%AE%E3%82%BD%E3%83%BC%E3%83%88%E3%82%92%E5%AD%A6%E3%81%B6.ipynb\" target=\"_parent\"><img src=\"https://colab.research.google.com/assets/colab-badge.svg\" alt=\"Open In Colab\"/></a>"
      ]
    },
    {
      "cell_type": "code",
      "execution_count": null,
      "metadata": {
        "id": "VAyqV1SXQADN"
      },
      "outputs": [],
      "source": [
        "my_list = [50,20,30,10,40]\n",
        "ascending_list = sorted(my_list)\n",
        "print(ascending_list)\n"
      ]
    }
  ]
}
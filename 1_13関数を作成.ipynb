{
  "nbformat": 4,
  "nbformat_minor": 0,
  "metadata": {
    "colab": {
      "provenance": [],
      "authorship_tag": "ABX9TyN/4iGbhaspmBVSh33/ME5F",
      "include_colab_link": true
    },
    "kernelspec": {
      "name": "python3",
      "display_name": "Python 3"
    },
    "language_info": {
      "name": "python"
    }
  },
  "cells": [
    {
      "cell_type": "markdown",
      "metadata": {
        "id": "view-in-github",
        "colab_type": "text"
      },
      "source": [
        "<a href=\"https://colab.research.google.com/github/joe4410joe/PyTrader-python-mt4-mt5-trading-api-connector-drag-n-drop/blob/master/1_13%E9%96%A2%E6%95%B0%E3%82%92%E4%BD%9C%E6%88%90.ipynb\" target=\"_parent\"><img src=\"https://colab.research.google.com/assets/colab-badge.svg\" alt=\"Open In Colab\"/></a>"
      ]
    },
    {
      "cell_type": "code",
      "execution_count": 22,
      "metadata": {
        "id": "f5YGcOnJ3PPK"
      },
      "outputs": [],
      "source": [
        "# 関数の定義\n",
        "def my_func(x):\n",
        "  #　関数を定義し、処理したい内容を書く\n",
        "  return\n",
        "\n",
        "\n",
        "\n"
      ]
    },
    {
      "cell_type": "code",
      "source": [
        "#　関数の使用\n",
        "my_list = [10,20,30,40,50]\n",
        "output_y = my_func(my_list) # 関数を呼び出して何かしらの計算処理を実行\n",
        "print(\"計算した値:\", output_y)\n"
      ],
      "metadata": {
        "colab": {
          "base_uri": "https://localhost:8080/"
        },
        "id": "jBNbIGeK32gg",
        "outputId": "56fa7c89-977a-46f9-edcf-8a7df306ad63"
      },
      "execution_count": 23,
      "outputs": [
        {
          "output_type": "stream",
          "name": "stdout",
          "text": [
            "計算した値: None\n"
          ]
        }
      ]
    },
    {
      "cell_type": "code",
      "source": [
        "# リストの平均値計算\n",
        "my_list = [3,5,1,7]\n",
        "total = sum(my_list) # 数値リストの合計を計算\n",
        "count = len(my_list) # リストの要素数を計算 lenは関数でリストの長さこの場合は4\n",
        "average = total/count # 平均値を計算\n",
        "print(average)\n"
      ],
      "metadata": {
        "colab": {
          "base_uri": "https://localhost:8080/"
        },
        "id": "Fk7lZZUS4sg3",
        "outputId": "d294b49c-c8fd-4feb-cf72-258712bccd8d"
      },
      "execution_count": 24,
      "outputs": [
        {
          "output_type": "stream",
          "name": "stdout",
          "text": [
            "4.0\n"
          ]
        }
      ]
    },
    {
      "cell_type": "code",
      "source": [
        "def calculate_average(numbers): #　定義(numbers)をする\n",
        "  return sum(numbers)/len(numbers) # return=その値を返す\n",
        "  # 関数を使った平均値の計算\n",
        "  numbers = [10,20,30,40,50]\n",
        "  average = calculate_average(numbers)\n",
        "  print(\"平均値:\", average)\n",
        "\n"
      ],
      "metadata": {
        "id": "146t1c_l5_fs"
      },
      "execution_count": 25,
      "outputs": []
    },
    {
      "cell_type": "code",
      "source": [
        "my_list =[10,20,30,40,50]\n",
        "total = sum(my_list)\n",
        "count = len(my_list)\n",
        "average = total/count\n",
        "print(\"平均値:\", average)\n"
      ],
      "metadata": {
        "colab": {
          "base_uri": "https://localhost:8080/"
        },
        "id": "hMtFyBNi-PwE",
        "outputId": "48685fa2-1ef8-44ed-ff53-d6e14a438c03"
      },
      "execution_count": 26,
      "outputs": [
        {
          "output_type": "stream",
          "name": "stdout",
          "text": [
            "平均値: 30.0\n"
          ]
        }
      ]
    }
  ]
}
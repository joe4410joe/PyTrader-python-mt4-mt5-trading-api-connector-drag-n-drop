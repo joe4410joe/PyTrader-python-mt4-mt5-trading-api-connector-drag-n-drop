{
  "nbformat": 4,
  "nbformat_minor": 0,
  "metadata": {
    "colab": {
      "provenance": [],
      "authorship_tag": "ABX9TyONCo1qUq+mQ232cZzMGPEU",
      "include_colab_link": true
    },
    "kernelspec": {
      "name": "python3",
      "display_name": "Python 3"
    },
    "language_info": {
      "name": "python"
    }
  },
  "cells": [
    {
      "cell_type": "markdown",
      "metadata": {
        "id": "view-in-github",
        "colab_type": "text"
      },
      "source": [
        "<a href=\"https://colab.research.google.com/github/joe4410joe/PyTrader-python-mt4-mt5-trading-api-connector-drag-n-drop/blob/master/1_06_%2B%E6%BC%94%E7%AE%97%E5%AD%90%E3%80%81%E3%83%AA%E3%82%B9%E3%83%88%E3%82%92%E7%B5%90%E5%90%88%E3%81%99%E3%82%8B.ipynb\" target=\"_parent\"><img src=\"https://colab.research.google.com/assets/colab-badge.svg\" alt=\"Open In Colab\"/></a>"
      ]
    },
    {
      "cell_type": "code",
      "execution_count": 7,
      "metadata": {
        "colab": {
          "base_uri": "https://localhost:8080/"
        },
        "id": "q8RUD7iBIjZn",
        "outputId": "7e29f841-36ca-439e-8f31-b686cd91afa5"
      },
      "outputs": [
        {
          "output_type": "stream",
          "name": "stdout",
          "text": [
            "[7, 8, 9, 10, 11, 12]\n"
          ]
        }
      ],
      "source": [
        "#リストの加算\n",
        "my_list1 = [7,8,9]\n",
        "my_list2 = [10,11,12]\n",
        "\n",
        "my_list = my_list1 + my_list2\n",
        "\n",
        "print(my_list)\n"
      ]
    },
    {
      "cell_type": "code",
      "source": [
        "#extend()メソッド\n",
        "my_list1 = [7,8,9]\n",
        "my_list2 = [10,11,12]\n",
        "\n",
        "my_list1.extend(my_list2)\n",
        "print(my_list1)\n"
      ],
      "metadata": {
        "colab": {
          "base_uri": "https://localhost:8080/"
        },
        "id": "qwPvi9P3JiON",
        "outputId": "19babedb-ecdd-4f5c-a50e-919dcf0eaf84"
      },
      "execution_count": 8,
      "outputs": [
        {
          "output_type": "stream",
          "name": "stdout",
          "text": [
            "[7, 8, 9, 10, 11, 12]\n"
          ]
        }
      ]
    },
    {
      "cell_type": "code",
      "source": [
        "my_list1 = [1,2,3]\n",
        "my_list2 = [4,5,6]\n",
        "my_list = my_list1 + my_list2\n",
        "print(\"作成したリスト :\" , my_list)\n"
      ],
      "metadata": {
        "colab": {
          "base_uri": "https://localhost:8080/"
        },
        "id": "DaO_i7YAKPLF",
        "outputId": "9b5a09cb-e75f-455b-c006-3bada98ca10a"
      },
      "execution_count": 9,
      "outputs": [
        {
          "output_type": "stream",
          "name": "stdout",
          "text": [
            "作成したリスト : [1, 2, 3, 4, 5, 6]\n"
          ]
        }
      ]
    }
  ]
}
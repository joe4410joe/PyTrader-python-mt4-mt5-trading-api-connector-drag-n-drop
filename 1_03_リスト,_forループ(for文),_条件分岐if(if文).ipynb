{
  "nbformat": 4,
  "nbformat_minor": 0,
  "metadata": {
    "colab": {
      "provenance": [],
      "authorship_tag": "ABX9TyPBVDWG/a4GmqYro+WbApgO",
      "include_colab_link": true
    },
    "kernelspec": {
      "name": "python3",
      "display_name": "Python 3"
    },
    "language_info": {
      "name": "python"
    }
  },
  "cells": [
    {
      "cell_type": "markdown",
      "metadata": {
        "id": "view-in-github",
        "colab_type": "text"
      },
      "source": [
        "<a href=\"https://colab.research.google.com/github/joe4410joe/PyTrader-python-mt4-mt5-trading-api-connector-drag-n-drop/blob/master/1_03_%E3%83%AA%E3%82%B9%E3%83%88%2C_for%E3%83%AB%E3%83%BC%E3%83%97(for%E6%96%87)%2C_%E6%9D%A1%E4%BB%B6%E5%88%86%E5%B2%90if(if%E6%96%87).ipynb\" target=\"_parent\"><img src=\"https://colab.research.google.com/assets/colab-badge.svg\" alt=\"Open In Colab\"/></a>"
      ]
    },
    {
      "cell_type": "code",
      "execution_count": 4,
      "metadata": {
        "colab": {
          "base_uri": "https://localhost:8080/"
        },
        "id": "mvs6_pkpxtK3",
        "outputId": "d78ae04f-3c76-4b74-eb38-ed74f48d63f9"
      },
      "outputs": [
        {
          "output_type": "stream",
          "name": "stdout",
          "text": [
            "[1, 2, 3, 4, 5]\n"
          ]
        }
      ],
      "source": [
        "my_list = []\n",
        "for i in range(1,6):\n",
        "  my_list.append(i)\n",
        "\n",
        "print(my_list)\n"
      ]
    },
    {
      "cell_type": "code",
      "source": [
        "i=4\n",
        "if i % 2 == 0:\n",
        "  print(\"偶数です\")\n",
        "else:\n",
        "  print(\"奇数です\")\n",
        ""
      ],
      "metadata": {
        "colab": {
          "base_uri": "https://localhost:8080/"
        },
        "id": "vbs9cH0E0bO_",
        "outputId": "774d7da7-bfdf-4332-a879-9ff9abe1a049"
      },
      "execution_count": 5,
      "outputs": [
        {
          "output_type": "stream",
          "name": "stdout",
          "text": [
            "偶数です\n"
          ]
        }
      ]
    },
    {
      "cell_type": "code",
      "source": [
        "my_list = []\n",
        "for i in range(1,31):\n",
        "  if i % 3 == 0:\n",
        "    my_list.append(i)\n",
        "print(my_list)\n"
      ],
      "metadata": {
        "colab": {
          "base_uri": "https://localhost:8080/"
        },
        "id": "x5PeVEFl1RAN",
        "outputId": "aac1ea41-ffa5-410c-bc71-b71843dc00ba"
      },
      "execution_count": 6,
      "outputs": [
        {
          "output_type": "stream",
          "name": "stdout",
          "text": [
            "[3, 6, 9, 12, 15, 18, 21, 24, 27, 30]\n"
          ]
        }
      ]
    }
  ]
}